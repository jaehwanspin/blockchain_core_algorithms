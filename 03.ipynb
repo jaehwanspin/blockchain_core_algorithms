{
 "cells": [
  {
   "cell_type": "code",
   "execution_count": 299,
   "metadata": {},
   "outputs": [],
   "source": [
    "import struct"
   ]
  },
  {
   "cell_type": "code",
   "execution_count": 300,
   "metadata": {},
   "outputs": [],
   "source": [
    "version = struct.pack(\"<L\", 2)"
   ]
  },
  {
   "cell_type": "code",
   "execution_count": 301,
   "metadata": {},
   "outputs": [],
   "source": [
    "tx_in_count = struct.pack(\"<B\", 1)\n",
    "tx_in = []\n",
    "tx_out_count = struct.pack(\"<B\", 1)\n",
    "tx_out = []\n",
    "lock_time = struct.pack(\"<L\", 0)"
   ]
  },
  {
   "cell_type": "code",
   "execution_count": 302,
   "metadata": {},
   "outputs": [],
   "source": [
    "utxo_txid = \"d85ceaa58fca1814ae50d168117a89ecd04628df6c9ba7ae5c62f8e9e92e8ca4\"\n",
    "idx = 1\n",
    "addr = \"n4ow5W3UDR58ZudMngEyZkHwKDxyNs9fYP\"\n",
    "wif = \"cUAAsiDMhVboPVpgWPwpm5aGegvFvD85vJSz9kRTHpd2vwjJybKJ\"\n",
    "value = 505000000"
   ]
  },
  {
   "cell_type": "code",
   "execution_count": 303,
   "metadata": {},
   "outputs": [],
   "source": [
    "def little_endian(string):\n",
    "    flipped = \"\".join(reversed([string[i:i+2] for i in range(0,len(string),2)]))\n",
    "    return flipped"
   ]
  },
  {
   "cell_type": "code",
   "execution_count": 304,
   "metadata": {},
   "outputs": [],
   "source": [
    "txid = bytes.fromhex(little_endian(utxo_txid))"
   ]
  },
  {
   "cell_type": "code",
   "execution_count": 305,
   "metadata": {},
   "outputs": [],
   "source": [
    "vout = struct.pack(\"<L\", idx)"
   ]
  },
  {
   "cell_type": "code",
   "execution_count": 306,
   "metadata": {},
   "outputs": [],
   "source": [
    "scriptSig_ss = bytes.fromhex(\"\")\n",
    "scriptSig_len = struct.pack(\"<B\", len(scriptSig_ss))\n",
    "scriptSig = scriptSig_len + scriptSig_ss"
   ]
  },
  {
   "cell_type": "code",
   "execution_count": 307,
   "metadata": {},
   "outputs": [],
   "source": [
    "sequence = bytes.fromhex(\"FFFFFFFF\")"
   ]
  },
  {
   "cell_type": "code",
   "execution_count": 308,
   "metadata": {},
   "outputs": [],
   "source": [
    "tx_in = txid + vout + scriptSig + sequence"
   ]
  },
  {
   "cell_type": "code",
   "execution_count": 309,
   "metadata": {},
   "outputs": [
    {
     "data": {
      "text/plain": [
       "'a48c2ee9e9f8625caea79b6cdf2846d0ec897a1168d150ae1418ca8fa5ea5cd80100000000ffffffff'"
      ]
     },
     "execution_count": 309,
     "metadata": {},
     "output_type": "execute_result"
    }
   ],
   "source": [
    "tx_in.hex()"
   ]
  },
  {
   "cell_type": "code",
   "execution_count": 310,
   "metadata": {},
   "outputs": [],
   "source": [
    "val = struct.pack(\"<Q\", value)"
   ]
  },
  {
   "cell_type": "code",
   "execution_count": 311,
   "metadata": {},
   "outputs": [],
   "source": [
    "import base58\n",
    "pubkeyhash = base58.b58decode(addr)"
   ]
  },
  {
   "cell_type": "code",
   "execution_count": 312,
   "metadata": {},
   "outputs": [],
   "source": [
    "pubkeyhash = pubkeyhash.hex()[2:-8]"
   ]
  },
  {
   "cell_type": "code",
   "execution_count": 313,
   "metadata": {},
   "outputs": [
    {
     "data": {
      "text/plain": [
       "'ff80f2ef01685ae104c025c68b1784d912ce5f3c'"
      ]
     },
     "execution_count": 313,
     "metadata": {},
     "output_type": "execute_result"
    }
   ],
   "source": [
    "pubkeyhash"
   ]
  },
  {
   "cell_type": "code",
   "execution_count": 314,
   "metadata": {},
   "outputs": [],
   "source": [
    "scriptpubkey = \"76a914\" + pubkeyhash + \"88ac\""
   ]
  },
  {
   "cell_type": "code",
   "execution_count": 315,
   "metadata": {},
   "outputs": [],
   "source": [
    "scriptpubkey_bytes = bytes.fromhex(scriptpubkey)"
   ]
  },
  {
   "cell_type": "code",
   "execution_count": 316,
   "metadata": {},
   "outputs": [
    {
     "data": {
      "text/plain": [
       "b'v\\xa9\\x14\\xff\\x80\\xf2\\xef\\x01hZ\\xe1\\x04\\xc0%\\xc6\\x8b\\x17\\x84\\xd9\\x12\\xce_<\\x88\\xac'"
      ]
     },
     "execution_count": 316,
     "metadata": {},
     "output_type": "execute_result"
    }
   ],
   "source": [
    "scriptpubkey_bytes"
   ]
  },
  {
   "cell_type": "code",
   "execution_count": 317,
   "metadata": {},
   "outputs": [],
   "source": [
    "scriptpubkey_len = struct.pack(\"<B\", len(scriptpubkey_bytes))"
   ]
  },
  {
   "cell_type": "code",
   "execution_count": 318,
   "metadata": {},
   "outputs": [
    {
     "data": {
      "text/plain": [
       "b'\\x19'"
      ]
     },
     "execution_count": 318,
     "metadata": {},
     "output_type": "execute_result"
    }
   ],
   "source": [
    "scriptpubkey_len"
   ]
  },
  {
   "cell_type": "code",
   "execution_count": 319,
   "metadata": {},
   "outputs": [],
   "source": [
    "tx_out = val + scriptpubkey_len + scriptpubkey_bytes"
   ]
  },
  {
   "cell_type": "code",
   "execution_count": 320,
   "metadata": {},
   "outputs": [
    {
     "data": {
      "text/plain": [
       "'40b0191e000000001976a914ff80f2ef01685ae104c025c68b1784d912ce5f3c88ac'"
      ]
     },
     "execution_count": 320,
     "metadata": {},
     "output_type": "execute_result"
    }
   ],
   "source": [
    "tx_out.hex()"
   ]
  },
  {
   "cell_type": "code",
   "execution_count": 321,
   "metadata": {},
   "outputs": [],
   "source": [
    "tx = version + tx_in_count + tx_in + tx_out_count + tx_out + lock_time"
   ]
  },
  {
   "cell_type": "code",
   "execution_count": 322,
   "metadata": {},
   "outputs": [
    {
     "data": {
      "text/plain": [
       "'0200000001a48c2ee9e9f8625caea79b6cdf2846d0ec897a1168d150ae1418ca8fa5ea5cd80100000000ffffffff0140b0191e000000001976a914ff80f2ef01685ae104c025c68b1784d912ce5f3c88ac00000000'"
      ]
     },
     "execution_count": 322,
     "metadata": {},
     "output_type": "execute_result"
    }
   ],
   "source": [
    "tx.hex()"
   ]
  },
  {
   "cell_type": "code",
   "execution_count": 323,
   "metadata": {},
   "outputs": [],
   "source": [
    "privkeyhash = base58.b58decode(wif).hex()"
   ]
  },
  {
   "cell_type": "code",
   "execution_count": 324,
   "metadata": {},
   "outputs": [],
   "source": [
    "privkeyhash = privkeyhash[2:-10]"
   ]
  },
  {
   "cell_type": "code",
   "execution_count": 325,
   "metadata": {},
   "outputs": [],
   "source": [
    "import hashlib\n",
    "hashed_tx = hashlib.sha256(hashlib.sha256(tx).digest()).digest()"
   ]
  },
  {
   "cell_type": "code",
   "execution_count": 326,
   "metadata": {},
   "outputs": [],
   "source": [
    "import ecdsa\n",
    "signingkey = ecdsa.SigningKey.from_string(bytes.fromhex(privkeyhash), curve=ecdsa.SECP256k1)"
   ]
  },
  {
   "cell_type": "code",
   "execution_count": 327,
   "metadata": {},
   "outputs": [
    {
     "data": {
      "text/plain": [
       "<ecdsa.keys.SigningKey at 0x7f8d93ccccf8>"
      ]
     },
     "execution_count": 327,
     "metadata": {},
     "output_type": "execute_result"
    }
   ],
   "source": [
    "signingkey"
   ]
  },
  {
   "cell_type": "code",
   "execution_count": 328,
   "metadata": {},
   "outputs": [],
   "source": [
    "SIG = signingkey.sign_digest(hashed_tx, sigencode=ecdsa.util.sigencode_der_canonize)"
   ]
  },
  {
   "cell_type": "code",
   "execution_count": 329,
   "metadata": {},
   "outputs": [
    {
     "data": {
      "text/plain": [
       "'304402207bfd7c24194ac16f5bad7e90cbcbd3d29ecf61da6943662e5e2c50307009ede2022055bdc370ac4cdbc4b7e196573ccc9a89e287e018119c830bb5823050ee08c12d'"
      ]
     },
     "execution_count": 329,
     "metadata": {},
     "output_type": "execute_result"
    }
   ],
   "source": [
    "SIG.hex()"
   ]
  },
  {
   "cell_type": "code",
   "execution_count": 330,
   "metadata": {},
   "outputs": [],
   "source": [
    "pubkey = \"044680C3EA14900819EC41C796B2FF90CBAA2FFD37269581EA5B75BBA7D44C5CE78DA11F345520443B51116F04519BF86DD32E4359F7BCEB30B9164420B4186941\""
   ]
  },
  {
   "cell_type": "code",
   "execution_count": 331,
   "metadata": {},
   "outputs": [],
   "source": [
    "scripSig = struct.pack(\"<B\", len(SIG)) + SIG + struct.pack(\"<B\", 1) \\\n",
    "          + struct.pack(\"<B\", len(bytes.fromhex(pubkey))) + bytes.fromhex(pubkey)"
   ]
  },
  {
   "cell_type": "code",
   "execution_count": 332,
   "metadata": {},
   "outputs": [
    {
     "data": {
      "text/plain": [
       "'46304402207bfd7c24194ac16f5bad7e90cbcbd3d29ecf61da6943662e5e2c50307009ede2022055bdc370ac4cdbc4b7e196573ccc9a89e287e018119c830bb5823050ee08c12d0141044680c3ea14900819ec41c796b2ff90cbaa2ffd37269581ea5b75bba7d44c5ce78da11f345520443b51116f04519bf86dd32e4359f7bceb30b9164420b4186941'"
      ]
     },
     "execution_count": 332,
     "metadata": {},
     "output_type": "execute_result"
    }
   ],
   "source": [
    "scripSig.hex()"
   ]
  },
  {
   "cell_type": "code",
   "execution_count": 333,
   "metadata": {},
   "outputs": [],
   "source": [
    "scriptSig_ss = scripSig"
   ]
  },
  {
   "cell_type": "code",
   "execution_count": 334,
   "metadata": {},
   "outputs": [],
   "source": [
    "scriptSig_len = struct.pack(\"<B\", len(scriptSig_ss))"
   ]
  },
  {
   "cell_type": "code",
   "execution_count": 335,
   "metadata": {},
   "outputs": [],
   "source": [
    "scriptSig = scriptSig_len + scriptSig_ss"
   ]
  },
  {
   "cell_type": "code",
   "execution_count": 336,
   "metadata": {},
   "outputs": [
    {
     "data": {
      "text/plain": [
       "'8a46304402207bfd7c24194ac16f5bad7e90cbcbd3d29ecf61da6943662e5e2c50307009ede2022055bdc370ac4cdbc4b7e196573ccc9a89e287e018119c830bb5823050ee08c12d0141044680c3ea14900819ec41c796b2ff90cbaa2ffd37269581ea5b75bba7d44c5ce78da11f345520443b51116f04519bf86dd32e4359f7bceb30b9164420b4186941'"
      ]
     },
     "execution_count": 336,
     "metadata": {},
     "output_type": "execute_result"
    }
   ],
   "source": [
    "scriptSig.hex()"
   ]
  },
  {
   "cell_type": "code",
   "execution_count": 337,
   "metadata": {},
   "outputs": [],
   "source": [
    "tx_in = txid + vout + scriptSig + sequence"
   ]
  },
  {
   "cell_type": "code",
   "execution_count": 338,
   "metadata": {},
   "outputs": [
    {
     "data": {
      "text/plain": [
       "'a48c2ee9e9f8625caea79b6cdf2846d0ec897a1168d150ae1418ca8fa5ea5cd8010000008a46304402207bfd7c24194ac16f5bad7e90cbcbd3d29ecf61da6943662e5e2c50307009ede2022055bdc370ac4cdbc4b7e196573ccc9a89e287e018119c830bb5823050ee08c12d0141044680c3ea14900819ec41c796b2ff90cbaa2ffd37269581ea5b75bba7d44c5ce78da11f345520443b51116f04519bf86dd32e4359f7bceb30b9164420b4186941ffffffff'"
      ]
     },
     "execution_count": 338,
     "metadata": {},
     "output_type": "execute_result"
    }
   ],
   "source": [
    "tx_in.hex()"
   ]
  },
  {
   "cell_type": "code",
   "execution_count": 339,
   "metadata": {},
   "outputs": [],
   "source": [
    "tx = version + tx_in_count + tx_in + tx_out_count + tx_out + lock_time"
   ]
  },
  {
   "cell_type": "code",
   "execution_count": 340,
   "metadata": {},
   "outputs": [
    {
     "data": {
      "text/plain": [
       "'0200000001a48c2ee9e9f8625caea79b6cdf2846d0ec897a1168d150ae1418ca8fa5ea5cd8010000008a46304402207bfd7c24194ac16f5bad7e90cbcbd3d29ecf61da6943662e5e2c50307009ede2022055bdc370ac4cdbc4b7e196573ccc9a89e287e018119c830bb5823050ee08c12d0141044680c3ea14900819ec41c796b2ff90cbaa2ffd37269581ea5b75bba7d44c5ce78da11f345520443b51116f04519bf86dd32e4359f7bceb30b9164420b4186941ffffffff0140b0191e000000001976a914ff80f2ef01685ae104c025c68b1784d912ce5f3c88ac00000000'"
      ]
     },
     "execution_count": 340,
     "metadata": {},
     "output_type": "execute_result"
    }
   ],
   "source": [
    "tx.hex()"
   ]
  },
  {
   "cell_type": "code",
   "execution_count": 341,
   "metadata": {},
   "outputs": [],
   "source": [
    "txid = hashlib.sha256(hashlib.sha256(tx).digest()).digest()"
   ]
  },
  {
   "cell_type": "code",
   "execution_count": 342,
   "metadata": {},
   "outputs": [],
   "source": [
    "txid = little_endian(txid.hex())"
   ]
  },
  {
   "cell_type": "code",
   "execution_count": 343,
   "metadata": {},
   "outputs": [
    {
     "data": {
      "text/plain": [
       "'dbd96091d9636e22e7d5171e57a2226f74d103eee0318e300c3c6bab25f14716'"
      ]
     },
     "execution_count": 343,
     "metadata": {},
     "output_type": "execute_result"
    }
   ],
   "source": [
    "txid"
   ]
  },
  {
   "cell_type": "code",
   "execution_count": 435,
   "metadata": {},
   "outputs": [],
   "source": [
    "def get_merkle_root(txs):\n",
    "    node_list = txs\n",
    "    while len(node_list) > 1:\n",
    "        new_node_list = []\n",
    "        for idx in range(0, len(node_list), 2):\n",
    "            if idx != len(node_list) - 1:\n",
    "                n1, nr = node_list[idx], node_list[idx + 1]\n",
    "            else:\n",
    "                n1, nr = node_list[idx], node_list[idx]\n",
    "            n1 = little_endian(n1)\n",
    "            nr = little_endian(nr)\n",
    "            double_hash = hashlib.sha256(hashlib.sha256(bytes.fromhex(n1 + nr)).digest()).digest()\n",
    "            double_hash = little_endian(double_hash.hex())\n",
    "            new_node_list.append(double_hash)\n",
    "        node_list = new_node_list\n",
    "    return node_list[0]"
   ]
  },
  {
   "cell_type": "code",
   "execution_count": 475,
   "metadata": {},
   "outputs": [],
   "source": [
    "txs = [\n",
    "    \"C70E85FB4F4CE3C98CC8B1C3E4F810A9E1547D212E3ABC9703C95FFBB686D41F\",\n",
    "    \"82354B6373C8764D745CE28CE779D43BE18D5E7202FC6A923DF57B5715EEF2AE\",\n",
    "    \"B0FFA76EC0AB542C2226993FB212FB51D5C3EA53C15615005F81530781C08AC4\",\n",
    "    \"A82329D7CDD9D54BBB5448FDF4D478815CA3FBB139B5AFE416BB8B176B20132E\",\n",
    "    \"455CAC6CE780D331C06D9287B96B084B4CDEAB2DCA3CDD8B0E6E702CD68682D2\",\n",
    "]"
   ]
  },
  {
   "cell_type": "code",
   "execution_count": 476,
   "metadata": {},
   "outputs": [],
   "source": [
    "merkle_root = get_merkle_root(txs)"
   ]
  },
  {
   "cell_type": "code",
   "execution_count": 477,
   "metadata": {},
   "outputs": [
    {
     "data": {
      "text/plain": [
       "'ded17cc936e7bf8e3f7805c78f53224b67cdb8a2748278d62bb62248dc8335af'"
      ]
     },
     "execution_count": 477,
     "metadata": {},
     "output_type": "execute_result"
    }
   ],
   "source": [
    "merkle_root"
   ]
  },
  {
   "cell_type": "code",
   "execution_count": 478,
   "metadata": {},
   "outputs": [],
   "source": [
    "version = struct.pack(\"<L\", 536870912)"
   ]
  },
  {
   "cell_type": "code",
   "execution_count": 479,
   "metadata": {},
   "outputs": [],
   "source": [
    "hash_prev_block = \"4f361347fb4cba6f2fd0f31d1dc1893db6a14d0f3401ea342b0a8b8bd6fcc0cc\""
   ]
  },
  {
   "cell_type": "code",
   "execution_count": 480,
   "metadata": {},
   "outputs": [
    {
     "name": "stdout",
     "output_type": "stream",
     "text": [
      "ded17cc936e7bf8e3f7805c78f53224b67cdb8a2748278d62bb62248dc8335af\n"
     ]
    }
   ],
   "source": [
    "hash_merkle_root = merkle_root\n",
    "print(hash_merkle_root)"
   ]
  },
  {
   "cell_type": "code",
   "execution_count": 481,
   "metadata": {},
   "outputs": [],
   "source": [
    "time = \"52371c5d\""
   ]
  },
  {
   "cell_type": "code",
   "execution_count": 482,
   "metadata": {},
   "outputs": [],
   "source": [
    "bits = \"207fffff\""
   ]
  },
  {
   "cell_type": "code",
   "execution_count": 483,
   "metadata": {},
   "outputs": [],
   "source": [
    "nonce = struct.pack(\"<L\", 0)"
   ]
  },
  {
   "cell_type": "code",
   "execution_count": 484,
   "metadata": {},
   "outputs": [],
   "source": [
    "header = version.hex() + little_endian(hash_prev_block) + little_endian(hash_merkle_root) + time + little_endian(bits) + nonce.hex()"
   ]
  },
  {
   "cell_type": "code",
   "execution_count": 485,
   "metadata": {},
   "outputs": [
    {
     "data": {
      "text/plain": [
       "'00000020ccc0fcd68b8b0a2b34ea01340f4da1b63d89c11d1df3d02f6fba4cfb4713364faf3583dc4822b62bd6788274a2b8cd674b22538fc705783f8ebfe736c97cd1de52371c5dffff7f2000000000'"
      ]
     },
     "execution_count": 485,
     "metadata": {},
     "output_type": "execute_result"
    }
   ],
   "source": [
    "header"
   ]
  },
  {
   "cell_type": "code",
   "execution_count": 486,
   "metadata": {},
   "outputs": [
    {
     "data": {
      "text/plain": [
       "'ded17cc936e7bf8e3f7805c78f53224b67cdb8a2748278d62bb62248dc8335af'"
      ]
     },
     "execution_count": 486,
     "metadata": {},
     "output_type": "execute_result"
    }
   ],
   "source": [
    "hash_merkle_root"
   ]
  },
  {
   "cell_type": "code",
   "execution_count": 487,
   "metadata": {},
   "outputs": [],
   "source": [
    "block_hash = hashlib.sha256(hashlib.sha256(bytes.fromhex(header)).digest()).digest()"
   ]
  },
  {
   "cell_type": "code",
   "execution_count": 488,
   "metadata": {},
   "outputs": [
    {
     "data": {
      "text/plain": [
       "'013d279253d0e207aa12e4fa11845222e4cdecb60616cd99e3c2f0e4b98ce48f'"
      ]
     },
     "execution_count": 488,
     "metadata": {},
     "output_type": "execute_result"
    }
   ],
   "source": [
    "little_endian(block_hash.hex())"
   ]
  },
  {
   "cell_type": "code",
   "execution_count": null,
   "metadata": {},
   "outputs": [],
   "source": []
  },
  {
   "cell_type": "code",
   "execution_count": 515,
   "metadata": {},
   "outputs": [],
   "source": [
    "bits = \"207fffff\""
   ]
  },
  {
   "cell_type": "code",
   "execution_count": 516,
   "metadata": {},
   "outputs": [],
   "source": [
    "first_byte, last_byte = bits[0:2], bits[2:]"
   ]
  },
  {
   "cell_type": "code",
   "execution_count": 517,
   "metadata": {},
   "outputs": [],
   "source": [
    "first = int(first_byte, 16)\n",
    "last = int(last_byte, 16)"
   ]
  },
  {
   "cell_type": "code",
   "execution_count": 518,
   "metadata": {},
   "outputs": [],
   "source": [
    "target_number1 = last * 2 ** (8 * (first - 3))"
   ]
  },
  {
   "cell_type": "code",
   "execution_count": 519,
   "metadata": {},
   "outputs": [
    {
     "data": {
      "text/plain": [
       "57896037716911750921221705069588091649609539881711309849342236841432341020672"
      ]
     },
     "execution_count": 519,
     "metadata": {},
     "output_type": "execute_result"
    }
   ],
   "source": [
    "target_number1"
   ]
  },
  {
   "cell_type": "code",
   "execution_count": 520,
   "metadata": {},
   "outputs": [
    {
     "data": {
      "text/plain": [
       "'0x7fffff0000000000000000000000000000000000000000000000000000000000'"
      ]
     },
     "execution_count": 520,
     "metadata": {},
     "output_type": "execute_result"
    }
   ],
   "source": [
    "hex(target_number1)"
   ]
  },
  {
   "cell_type": "code",
   "execution_count": 521,
   "metadata": {},
   "outputs": [
    {
     "data": {
      "text/plain": [
       "64"
      ]
     },
     "execution_count": 521,
     "metadata": {},
     "output_type": "execute_result"
    }
   ],
   "source": [
    "len(hex(target_number1)[2:])"
   ]
  },
  {
   "cell_type": "code",
   "execution_count": 522,
   "metadata": {},
   "outputs": [
    {
     "data": {
      "text/plain": [
       "'0x7fffff0000000000000000000000000000000000000000000000000000000000L'"
      ]
     },
     "execution_count": 522,
     "metadata": {},
     "output_type": "execute_result"
    }
   ],
   "source": [
    "\"0x%s%sL\" % ('0' * (64 - len(hex(target_number1))), hex(target_number1)[2:])"
   ]
  },
  {
   "cell_type": "code",
   "execution_count": 546,
   "metadata": {},
   "outputs": [
    {
     "name": "stdout",
     "output_type": "stream",
     "text": [
      "0x1723792c\n"
     ]
    }
   ],
   "source": [
    "bits = hex(388200748)\n",
    "print(bits)"
   ]
  },
  {
   "cell_type": "code",
   "execution_count": 547,
   "metadata": {},
   "outputs": [],
   "source": [
    "first_byte, last_byte = bits[2:4], bits[4:]"
   ]
  },
  {
   "cell_type": "code",
   "execution_count": 549,
   "metadata": {},
   "outputs": [
    {
     "name": "stdout",
     "output_type": "stream",
     "text": [
      "17\n",
      "23792c\n",
      "23 2324780\n"
     ]
    }
   ],
   "source": [
    "print(first_byte)\n",
    "print(last_byte)\n",
    "first = int(first_byte, 16)\n",
    "last = int(last_byte, 16)\n",
    "print(\"%d %d\" % (first, last))\n",
    "target_number2 = last * 2 ** (8 * (first - 3))"
   ]
  },
  {
   "cell_type": "code",
   "execution_count": 550,
   "metadata": {},
   "outputs": [
    {
     "data": {
      "text/plain": [
       "'0x23792c0000000000000000000000000000000000000000'"
      ]
     },
     "execution_count": 550,
     "metadata": {},
     "output_type": "execute_result"
    }
   ],
   "source": [
    "hex(target_number2)"
   ]
  },
  {
   "cell_type": "code",
   "execution_count": 551,
   "metadata": {},
   "outputs": [
    {
     "data": {
      "text/plain": [
       "'0x000000000000000023792c0000000000000000000000000000000000000000L'"
      ]
     },
     "execution_count": 551,
     "metadata": {},
     "output_type": "execute_result"
    }
   ],
   "source": [
    "\"0x%s%sL\" % ('0' * (64 - len(hex(target_number2))), hex(target_number2)[2:])"
   ]
  },
  {
   "cell_type": "code",
   "execution_count": 556,
   "metadata": {},
   "outputs": [],
   "source": [
    "difficulty = int(target_number2) / int(target_number1)"
   ]
  },
  {
   "cell_type": "code",
   "execution_count": 557,
   "metadata": {},
   "outputs": [
    {
     "name": "stdout",
     "output_type": "stream",
     "text": [
      "5.86857047635517e-23\n"
     ]
    }
   ],
   "source": [
    "print(difficulty)"
   ]
  },
  {
   "cell_type": "code",
   "execution_count": 558,
   "metadata": {},
   "outputs": [],
   "source": [
    "import time, random"
   ]
  },
  {
   "cell_type": "code",
   "execution_count": 577,
   "metadata": {},
   "outputs": [],
   "source": [
    "version = struct.pack(\"i\", 70015)"
   ]
  },
  {
   "cell_type": "code",
   "execution_count": 578,
   "metadata": {},
   "outputs": [],
   "source": [
    "services = struct.pack(\"Q\", 0)"
   ]
  },
  {
   "cell_type": "code",
   "execution_count": 579,
   "metadata": {},
   "outputs": [],
   "source": [
    "timestamp = struct.pack(\"Q\", int(time.time()))"
   ]
  },
  {
   "cell_type": "code",
   "execution_count": 580,
   "metadata": {},
   "outputs": [],
   "source": [
    "address_receive_services = struct.pack(\"Q\", 0)"
   ]
  },
  {
   "cell_type": "code",
   "execution_count": 581,
   "metadata": {},
   "outputs": [],
   "source": [
    "address_receive_ip = struct.pack(\">16s\", b\"127.0.0.1\")"
   ]
  },
  {
   "cell_type": "code",
   "execution_count": 582,
   "metadata": {},
   "outputs": [],
   "source": [
    "address_receive_port = struct.pack(\">H\", 8333)"
   ]
  },
  {
   "cell_type": "code",
   "execution_count": 583,
   "metadata": {},
   "outputs": [],
   "source": [
    "address_trans_ip = struct.pack(\">16s\", b\"127.0.0.1\")"
   ]
  },
  {
   "cell_type": "code",
   "execution_count": 584,
   "metadata": {},
   "outputs": [],
   "source": [
    "address_trans_port = struct.pack(\">H\", 8333)"
   ]
  },
  {
   "cell_type": "code",
   "execution_count": 585,
   "metadata": {},
   "outputs": [],
   "source": [
    "nonce = struct.pack(\"Q\", random.getrandbits(64))"
   ]
  },
  {
   "cell_type": "code",
   "execution_count": 586,
   "metadata": {},
   "outputs": [],
   "source": [
    "user_agent_bytes = struct.pack(\"B\", 0)"
   ]
  },
  {
   "cell_type": "code",
   "execution_count": 587,
   "metadata": {},
   "outputs": [],
   "source": [
    "starting_height = struct.pack(\"i\", 412345)"
   ]
  },
  {
   "cell_type": "code",
   "execution_count": 588,
   "metadata": {},
   "outputs": [],
   "source": [
    "relay = struct.pack(\"?\", False)"
   ]
  },
  {
   "cell_type": "code",
   "execution_count": 624,
   "metadata": {},
   "outputs": [],
   "source": [
    "payload = version + services + timestamp + address_receive_services + address_receive_ip \\\n",
    "+ address_receive_port + address_trans_ip + address_trans_port + nonce + user_agent_bytes + starting_height + relay "
   ]
  },
  {
   "cell_type": "code",
   "execution_count": 625,
   "metadata": {},
   "outputs": [
    {
     "data": {
      "text/plain": [
       "'7f11010000000000000000008b561c5d0000000000000000000000003132372e302e302e3100000000000000208d3132372e302e302e3100000000000000208d866ec164206f9a9f00b94a060000'"
      ]
     },
     "execution_count": 625,
     "metadata": {},
     "output_type": "execute_result"
    }
   ],
   "source": [
    "payload.hex()"
   ]
  },
  {
   "cell_type": "code",
   "execution_count": 640,
   "metadata": {},
   "outputs": [],
   "source": [
    "magic = bytes.fromhex(\"F9BED4D9\")"
   ]
  },
  {
   "cell_type": "code",
   "execution_count": 641,
   "metadata": {},
   "outputs": [],
   "source": [
    "command = str.encode(\"version\" + 5 * \"\\00\")"
   ]
  },
  {
   "cell_type": "code",
   "execution_count": 642,
   "metadata": {},
   "outputs": [
    {
     "name": "stdout",
     "output_type": "stream",
     "text": [
      "b'N\\x00\\x00\\x00'\n"
     ]
    }
   ],
   "source": [
    "length = struct.pack(\"I\", len(payload))\n",
    "print(length)"
   ]
  },
  {
   "cell_type": "code",
   "execution_count": 645,
   "metadata": {},
   "outputs": [],
   "source": [
    "checksum = hashlib.sha256(hashlib.sha256(payload).digest()).digest()[0:4]"
   ]
  },
  {
   "cell_type": "code",
   "execution_count": 648,
   "metadata": {},
   "outputs": [
    {
     "data": {
      "text/plain": [
       "b'\\x98*\\xda\\x84'"
      ]
     },
     "execution_count": 648,
     "metadata": {},
     "output_type": "execute_result"
    }
   ],
   "source": [
    "checksum"
   ]
  },
  {
   "cell_type": "code",
   "execution_count": 632,
   "metadata": {},
   "outputs": [],
   "source": [
    "msg = magic + command + length + checksum + payload"
   ]
  },
  {
   "cell_type": "code",
   "execution_count": null,
   "metadata": {},
   "outputs": [],
   "source": []
  },
  {
   "cell_type": "code",
   "execution_count": null,
   "metadata": {},
   "outputs": [],
   "source": []
  },
  {
   "cell_type": "code",
   "execution_count": null,
   "metadata": {},
   "outputs": [],
   "source": []
  },
  {
   "cell_type": "code",
   "execution_count": null,
   "metadata": {},
   "outputs": [],
   "source": []
  }
 ],
 "metadata": {
  "kernelspec": {
   "display_name": "Python 3",
   "language": "python",
   "name": "python3"
  },
  "language_info": {
   "codemirror_mode": {
    "name": "ipython",
    "version": 3
   },
   "file_extension": ".py",
   "mimetype": "text/x-python",
   "name": "python",
   "nbconvert_exporter": "python",
   "pygments_lexer": "ipython3",
   "version": "3.7.3"
  }
 },
 "nbformat": 4,
 "nbformat_minor": 2
}
